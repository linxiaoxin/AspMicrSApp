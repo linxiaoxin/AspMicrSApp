{
  "nbformat": 4,
  "nbformat_minor": 0,
  "metadata": {
    "colab": {
      "provenance": [],
      "include_colab_link": true
    },
    "kernelspec": {
      "name": "python3",
      "display_name": "Python 3"
    },
    "language_info": {
      "name": "python"
    }
  },
  "cells": [
    {
      "cell_type": "markdown",
      "metadata": {
        "id": "view-in-github",
        "colab_type": "text"
      },
      "source": [
        "<a href=\"https://colab.research.google.com/github/linxiaoxin/AspMicrSApp/blob/main/colab/02a_Functional_Programming_Workbook.ipynb\" target=\"_parent\"><img src=\"https://colab.research.google.com/assets/colab-badge.svg\" alt=\"Open In Colab\"/></a>"
      ]
    },
    {
      "cell_type": "markdown",
      "source": [
        "# Functional Progamming Workbook\n",
        "\n",
        "*Functional programming is a programming paradigm, a style of building the structure and elements of computer programs, that treats computation as the evaluation of mathematical functions and avoids changing state and mutable data. ~ As Quoted by Wikipedia.*\n",
        "\n",
        "Python provides features like lambda, filter, map, and reduce that can easily demonstrate the concept of Functional Programming. In this work book, particpants  will practice creating functions using these basic features.\n",
        "\n"
      ],
      "metadata": {
        "id": "0vvwkUaMrzxC"
      }
    },
    {
      "cell_type": "markdown",
      "source": [
        "# Function\n",
        "\n",
        "**Functions** *are objects, methods are not.  Functions are named, reusable expressions.*\n",
        "\n",
        "A function is a block of code to carry out a specific task, will contain its own scope and is called by name. All functions may contain zero(no) arguments or more than one argument. On exit, a function can or cannot return one or more values.\n",
        "\n",
        "**General Syntax**\n",
        "```\n",
        "def functionName( arg1, arg2,….):\n",
        "   # codes\n",
        "```\n",
        "For example:\n",
        "```\n",
        "import math\n",
        "def areaofcircle(radius):\n",
        "    return math.pi * radius * radius\n",
        "print(areaofcircle(10.0))\n",
        "```\n",
        "*Output: 314.1592653589793*\n",
        "\n",
        "OR using lambda\n",
        "```\n",
        "import math\n",
        "circlearea = lambda radius : math.pi * radius * radius\n",
        "print(circlearea(10.0))\n",
        "```\n",
        "*Output: 314.1592653589793*\n",
        "\n",
        "Functions in summary has the below properties:\n",
        "1.\tFunctions are value types; can be stored in val and var storage units.\n",
        "2.\tFunctions are objects of type function0, function1,  ...\n",
        "3.\tFunctions have both a type and a signature (type is function0,function1, ..).\n",
        "4.\tSlightly slower, and higher overhead.\n",
        "5.\tFunctions are first class entities on par with classes.\n",
        "6.\tFunctions can accept type parameters or parameter default values or partial functions.\n",
        "\n",
        "Statements are units of code that do not return a value. Expressions are units of code that return a value. The last expression in a block is the return value for the entire block. Functions are named, reusable expressions. Expressions can be stored in values or variables and passed into functions.\n"
      ],
      "metadata": {
        "id": "CeOScXJ0ssK3"
      }
    },
    {
      "cell_type": "markdown",
      "source": [
        "## The Lambda Expression\n",
        "\n",
        "Lambda expressions, also known as “anonymous functions”, allow us to create and use a function in a single line. They are useful when we need a short function that will be used only once. They are mostly used in conjunction with the map, filter and the sort methods.  \n",
        "\n",
        "Let’s write a function in Python, that computes the value of 5x + 2. The standard approach would be to define a function.\n",
        "\n",
        "For example, the standard way to write a function for 5X+2\n",
        "def f(x):\n",
        "  return 5 * x + 2\n",
        "print(f(3))\n",
        "*Output : 17*\n",
        "\n",
        "However, there's a quicker way to write functions on the fly, and these are called lambda functions. A lambda function is a small anonymous function. A lambda function can take any number of arguments, but can only have one expression. To create a lambda expression, we type in the keyword lambda, followed by the inputs. Next, we enter a colon, followed by the expression that will be the return value.\n",
        "\n",
        "###General Syntax\n",
        "\n",
        "*lambda arguments : expression*\n",
        "\n",
        "For example, if we rewrite the same standard expression above as lambda:\n",
        "```\n",
        " lambda x: 5*x+2\n",
        "```\n",
        "There is a small issue in the above definition, lambda is not the name of the function. So developers usually like to set a name for the functions crafted.\n",
        "\n",
        "One way is to give it a name. Let us call this lambda expression s. Now, we can use this like any other function.\n",
        "```\n",
        "s = lambda x: 5*x+2\n",
        "s(3)\n",
        "```\n",
        "*Output :17*\n",
        "\n",
        "Another example:\n",
        "```\n",
        "x = lambda a : a + 10\n",
        "print(x(5))\n",
        "```\n",
        "*Output: 15*\n",
        "\n",
        "The lambda function is much more powerful and concise because we can also construct anonymous functions; functions without a name, example:\n",
        "```\n",
        "(lambda x, y: x * y)(9, 10) #returns 90\n",
        "```"
      ],
      "metadata": {
        "id": "EVyAmR7mtGnT"
      }
    },
    {
      "cell_type": "markdown",
      "source": [
        "## Python Tuples and Named Tuples\n",
        "A tuple is an immutable and ordered collection of items. Tuples are similar to lists but cannot be modified once created.\n",
        "####Creating a tuple\n",
        "**Syntax:**\n",
        "```\n",
        "my_tuple = (item1, item2, item3)\n",
        "```\n",
        "####Key Points:\n",
        "*   Tuples are defined by enclosing the elements in parentheses ( ).\n",
        "*   They are immutable, meaning once a tuple is created, you cannot change its elements.\n",
        "*   Tuples can contain mixed data types.\n",
        "\n",
        "**Named tuples**, available in the collections module, extend the capabilities of regular tuples. Named tuples assign meaning to each position in a tuple and allow for more readable, self-documenting code.\n",
        "\n",
        "```\n",
        "# import library\n",
        "from collections import namedtuple\n",
        "# create a named tuple\n",
        "Person = namedtuple('Person', 'name age gender')\n",
        "# instatiate one\n",
        "john = Person(name=\"John\", age=30, gender=\"Male\")\n",
        "```\n",
        "####Key Points:\n",
        "*   Named tuples make your code self-documenting.\n",
        "*   They can be accessed using field names in addition to index positions.\n",
        "*   Named tuples are still immutable like regular tuples.\n",
        "\n",
        "\n",
        "\n",
        "\n",
        "\n"
      ],
      "metadata": {
        "id": "3bpGoM4cyY-X"
      }
    },
    {
      "cell_type": "markdown",
      "source": [
        "## Tuple Exercises\n",
        "### Exercise 1: Basic Tuple Operations\n",
        "Create a tuple named fruits containing \"apple\", \"banana\", and \"cherry\".\n",
        "Try to change the second item in fruits to \"strawberry\". Observe what happens.\n"
      ],
      "metadata": {
        "id": "KmEqBOf-2EoE"
      }
    },
    {
      "cell_type": "code",
      "source": [
        "# complete code\n",
        "fruits = ('apple', 'banana', 'cherry')\n",
        "print(fruits)\n",
        "fruits[1] = 'strawberry'\n",
        "print(fruits)\n"
      ],
      "metadata": {
        "id": "bVosVBAV2Z_a",
        "colab": {
          "base_uri": "https://localhost:8080/",
          "height": 211
        },
        "outputId": "98ed4496-67d2-47b8-9dba-87f118a9f27e"
      },
      "execution_count": 3,
      "outputs": [
        {
          "output_type": "stream",
          "name": "stdout",
          "text": [
            "('apple', 'banana', 'cherry')\n"
          ]
        },
        {
          "output_type": "error",
          "ename": "TypeError",
          "evalue": "'tuple' object does not support item assignment",
          "traceback": [
            "\u001b[0;31m---------------------------------------------------------------------------\u001b[0m",
            "\u001b[0;31mTypeError\u001b[0m                                 Traceback (most recent call last)",
            "\u001b[0;32m<ipython-input-3-e4123b897545>\u001b[0m in \u001b[0;36m<cell line: 4>\u001b[0;34m()\u001b[0m\n\u001b[1;32m      2\u001b[0m \u001b[0mfruits\u001b[0m \u001b[0;34m=\u001b[0m \u001b[0;34m(\u001b[0m\u001b[0;34m'apple'\u001b[0m\u001b[0;34m,\u001b[0m \u001b[0;34m'banana'\u001b[0m\u001b[0;34m,\u001b[0m \u001b[0;34m'cherry'\u001b[0m\u001b[0;34m)\u001b[0m\u001b[0;34m\u001b[0m\u001b[0;34m\u001b[0m\u001b[0m\n\u001b[1;32m      3\u001b[0m \u001b[0mprint\u001b[0m\u001b[0;34m(\u001b[0m\u001b[0mfruits\u001b[0m\u001b[0;34m)\u001b[0m\u001b[0;34m\u001b[0m\u001b[0;34m\u001b[0m\u001b[0m\n\u001b[0;32m----> 4\u001b[0;31m \u001b[0mfruits\u001b[0m\u001b[0;34m[\u001b[0m\u001b[0;36m1\u001b[0m\u001b[0;34m]\u001b[0m \u001b[0;34m=\u001b[0m \u001b[0;34m'strawberry'\u001b[0m\u001b[0;34m\u001b[0m\u001b[0;34m\u001b[0m\u001b[0m\n\u001b[0m\u001b[1;32m      5\u001b[0m \u001b[0mprint\u001b[0m\u001b[0;34m(\u001b[0m\u001b[0mfruits\u001b[0m\u001b[0;34m)\u001b[0m\u001b[0;34m\u001b[0m\u001b[0;34m\u001b[0m\u001b[0m\n",
            "\u001b[0;31mTypeError\u001b[0m: 'tuple' object does not support item assignment"
          ]
        }
      ]
    },
    {
      "cell_type": "markdown",
      "source": [
        "### Exercise 2: Working with Named Tuples\n",
        "Import the namedtuple function from the collections module.\n",
        "Create a named tuple Car with fields make, model, and year.\n",
        "Instantiate a Car named my_car with appropriate values, and print each field.\n"
      ],
      "metadata": {
        "id": "3tmqveGH2cF-"
      }
    },
    {
      "cell_type": "code",
      "source": [
        "# complete code\n",
        "from collections import namedtuple\n",
        "\n",
        "Car = namedtuple('Car', 'make model year')\n",
        "my_car = Car(make='telsa', model='x-10', year=2023)\n",
        "print(my_car)"
      ],
      "metadata": {
        "id": "yQc3nlcK2gP3",
        "colab": {
          "base_uri": "https://localhost:8080/"
        },
        "outputId": "c16b9c52-4d57-4be2-e9e4-94d6645ff48d"
      },
      "execution_count": 7,
      "outputs": [
        {
          "output_type": "stream",
          "name": "stdout",
          "text": [
            "Car(make='telsa', model='x-10', year=2023)\n"
          ]
        }
      ]
    },
    {
      "cell_type": "markdown",
      "source": [],
      "metadata": {
        "id": "JdtdsUR3YlUp"
      }
    },
    {
      "cell_type": "markdown",
      "source": [
        "### Exercise 3: Advanced Usage of Named Tuples\n",
        "Extend the Car named tuple to include a method age that calculates the age of the car based on the current year.\n",
        "Create an instance of this modified Car and use the age method to find its age.\n"
      ],
      "metadata": {
        "id": "mFD3NgGG2gtm"
      }
    },
    {
      "cell_type": "code",
      "source": [
        "# complete code\n",
        "my_car_extended = my_car + (2024 - my_car.year,)\n",
        "print(my_car_extended)"
      ],
      "metadata": {
        "id": "FwEkdvVI2jC2",
        "colab": {
          "base_uri": "https://localhost:8080/"
        },
        "outputId": "25727cd3-60f3-46a7-c95e-a0567e2afbe6"
      },
      "execution_count": 12,
      "outputs": [
        {
          "output_type": "stream",
          "name": "stdout",
          "text": [
            "('telsa', 'x-10', 2023, 1)\n"
          ]
        }
      ]
    },
    {
      "cell_type": "markdown",
      "source": [
        "### Exercise 4: Exploring Tuple Unpacking\n",
        "Create a tuple coordinates with values (10, 20, 30).\n",
        "Unpack these values into variables x, y, and z and print them.\n"
      ],
      "metadata": {
        "id": "tLgALYAh2jba"
      }
    },
    {
      "cell_type": "code",
      "source": [
        "# complete code\n",
        "(x, y, z) = (10, 20, 30)\n",
        "print(x)\n",
        "print(y)\n",
        "print(z)\n"
      ],
      "metadata": {
        "id": "FmqEeb4o2lKg",
        "colab": {
          "base_uri": "https://localhost:8080/"
        },
        "outputId": "a9e4135a-d7dc-49ef-eca3-90e60503bc3d"
      },
      "execution_count": 16,
      "outputs": [
        {
          "output_type": "stream",
          "name": "stdout",
          "text": [
            "10\n",
            "20\n",
            "30\n"
          ]
        }
      ]
    },
    {
      "cell_type": "markdown",
      "source": [
        "### Exercise 5: Practical Application of Named Tuples\n",
        "Create a named tuple Student with fields name, roll_number, and grade.\n",
        "Create a list of Student instances representing a class of students.\n",
        "Write a function to find the average grade of the class."
      ],
      "metadata": {
        "id": "rnkHljR02llW"
      }
    },
    {
      "cell_type": "code",
      "source": [
        "# complete code\n",
        "import collections\n",
        "from functools import reduce\n",
        "\n",
        "Student = collections.namedtuple('Student', ['name', 'roll_number', 'grade'])\n",
        "\n",
        "# Tuples\n",
        "students = (\n",
        "   Student(name='Albert Einstein',roll_number=1,grade=56),\n",
        "   Student(name='Marie Curie',roll_number=2,grade=66),\n",
        "   Student(name='Isaac Newton',roll_number=4,grade=90),\n",
        "   Student(name='Nikola Testla',roll_number=2,grade=78),\n",
        "   Student(name='Galileo Galilei',roll_number=1,grade=56),\n",
        "   Student(name='Ada Lovelace',roll_number=3,grade=45)\n",
        ")\n",
        "print(students)\n",
        "\n",
        "def average(students):\n",
        "   return sum(stu.grade for stu in students)/len(students)\n",
        "\n",
        "print(average(students))"
      ],
      "metadata": {
        "id": "TwENRbtf3BcB",
        "colab": {
          "base_uri": "https://localhost:8080/"
        },
        "outputId": "f2bb5c61-d3e8-4e66-9574-260e99be8873"
      },
      "execution_count": 20,
      "outputs": [
        {
          "output_type": "stream",
          "name": "stdout",
          "text": [
            "(Student(name='Albert Einstein', roll_number=1, grade=56), Student(name='Marie Curie', roll_number=2, grade=66), Student(name='Isaac Newton', roll_number=4, grade=90), Student(name='Nikola Testla', roll_number=2, grade=78), Student(name='Galileo Galilei', roll_number=1, grade=56), Student(name='Ada Lovelace', roll_number=3, grade=45))\n",
            "65.16666666666667\n"
          ]
        }
      ]
    },
    {
      "cell_type": "markdown",
      "source": [
        "#### Note for Participants:\n",
        "*Ensure to execute the code after writing it to see the output and understand the behavior of tuples and named tuples. Feel free to experiment with the structures by adding more elements, fields, or methods as needed.*"
      ],
      "metadata": {
        "id": "u7uJZzkS3PE7"
      }
    },
    {
      "cell_type": "markdown",
      "source": [
        "## Map Function\n",
        "The map function in Python applies a given function to each item of an iterable (like a list or tuple) and returns a map object (which is an iterator).\n",
        "```\n",
        "map(function, iterable, ...)\n",
        "```\n",
        "### Key Points\n",
        "*   The function is the function to which the specified iterable elements are applied.\n",
        "*   The iterable can be a tuple, named tuple, etc.\n",
        "*   The map function can take more than one iterable. The function must then take that many arguments.\n",
        "\n",
        "## Map Exercises\n",
        "### Exercise 1: Basic Usage of map\n",
        "Create a list of numbers: numbers = [1, 2, 3, 4, 5].\n",
        "Use the map function to create a new list where each number is squared.\n",
        "Print the result.\n",
        "\n"
      ],
      "metadata": {
        "id": "fb0lpt7W3Skd"
      }
    },
    {
      "cell_type": "code",
      "source": [
        "# Complete code\n",
        "def square(n):\n",
        "  return n * n;\n",
        "\n",
        "numlist = [1,2,3,4,5]\n",
        "\n",
        "print(list(map(square, numlist)))\n"
      ],
      "metadata": {
        "id": "1E-9Gkyy89jG",
        "colab": {
          "base_uri": "https://localhost:8080/"
        },
        "outputId": "df15f263-388d-4e49-d1a8-519a2ccd6c81"
      },
      "execution_count": 22,
      "outputs": [
        {
          "output_type": "stream",
          "name": "stdout",
          "text": [
            "[1, 4, 9, 16, 25]\n"
          ]
        }
      ]
    },
    {
      "cell_type": "code",
      "source": [],
      "metadata": {
        "id": "AjUqAmRchnE8"
      },
      "execution_count": null,
      "outputs": []
    },
    {
      "cell_type": "markdown",
      "source": [
        "### Exercise 2: Using map with Named Tuples\n",
        "Define a named tuple Person with fields name and age.\n",
        "Create a list of Person instances.\n",
        "Use the map function to increase the age of each person by 1 year, and create a list of the updated persons.\n",
        "\n"
      ],
      "metadata": {
        "id": "_kH2u5IE9A1m"
      }
    },
    {
      "cell_type": "code",
      "source": [
        "# complete codes\n",
        "from collections import namedtuple\n",
        "\n",
        "Person = namedtuple('Person', 'name age')\n",
        "\n",
        "persons = [Person(name = 'Albert', age=25), Person(name='Sandra', age=32), Person(name='Helen', age=35), Person(name='Nathan', age=29)]\n",
        "\n",
        "persons = list(map(lambda x: Person(name= x.name, age = x.age +1), persons))\n",
        "\n",
        "print(persons)"
      ],
      "metadata": {
        "id": "TdzUmZfH9Ehn",
        "colab": {
          "base_uri": "https://localhost:8080/"
        },
        "outputId": "a1c15cf5-e085-4ee7-ce56-b94205210549"
      },
      "execution_count": 23,
      "outputs": [
        {
          "output_type": "stream",
          "name": "stdout",
          "text": [
            "[Person(name='Albert', age=26), Person(name='Sandra', age=33), Person(name='Helen', age=36), Person(name='Nathan', age=30)]\n"
          ]
        }
      ]
    },
    {
      "cell_type": "markdown",
      "source": [
        "### Exercise 3: Combining map and Lambda Functions\n",
        "Create a list of tuples where each tuple is a coordinate (x, y).\n",
        "Use map with a lambda function to create a new list where each coordinate is translated by adding 1 to both x and y values.\n"
      ],
      "metadata": {
        "id": "0jH-uWu09GgN"
      }
    },
    {
      "cell_type": "code",
      "source": [
        "# complete code\n",
        "coordinates = [(10, 80), (50, 20), (63, 46), (73, 3)]\n",
        "\n",
        "print((10,1), (1,1))"
      ],
      "metadata": {
        "id": "Aji0yifl9Jq_",
        "colab": {
          "base_uri": "https://localhost:8080/",
          "height": 176
        },
        "outputId": "fbd5367f-a303-4e4f-aa58-85cd00be6196"
      },
      "execution_count": 25,
      "outputs": [
        {
          "output_type": "error",
          "ename": "TypeError",
          "evalue": "can only concatenate tuple (not \"int\") to tuple",
          "traceback": [
            "\u001b[0;31m---------------------------------------------------------------------------\u001b[0m",
            "\u001b[0;31mTypeError\u001b[0m                                 Traceback (most recent call last)",
            "\u001b[0;32m<ipython-input-25-00f3cabd8085>\u001b[0m in \u001b[0;36m<cell line: 4>\u001b[0;34m()\u001b[0m\n\u001b[1;32m      2\u001b[0m \u001b[0mcoordinates\u001b[0m \u001b[0;34m=\u001b[0m \u001b[0;34m[\u001b[0m\u001b[0;34m(\u001b[0m\u001b[0;36m10\u001b[0m\u001b[0;34m,\u001b[0m \u001b[0;36m80\u001b[0m\u001b[0;34m)\u001b[0m\u001b[0;34m,\u001b[0m \u001b[0;34m(\u001b[0m\u001b[0;36m50\u001b[0m\u001b[0;34m,\u001b[0m \u001b[0;36m20\u001b[0m\u001b[0;34m)\u001b[0m\u001b[0;34m,\u001b[0m \u001b[0;34m(\u001b[0m\u001b[0;36m63\u001b[0m\u001b[0;34m,\u001b[0m \u001b[0;36m46\u001b[0m\u001b[0;34m)\u001b[0m\u001b[0;34m,\u001b[0m \u001b[0;34m(\u001b[0m\u001b[0;36m73\u001b[0m\u001b[0;34m,\u001b[0m \u001b[0;36m3\u001b[0m\u001b[0;34m)\u001b[0m\u001b[0;34m]\u001b[0m\u001b[0;34m\u001b[0m\u001b[0;34m\u001b[0m\u001b[0m\n\u001b[1;32m      3\u001b[0m \u001b[0;34m\u001b[0m\u001b[0m\n\u001b[0;32m----> 4\u001b[0;31m \u001b[0mprint\u001b[0m\u001b[0;34m(\u001b[0m\u001b[0msum\u001b[0m\u001b[0;34m(\u001b[0m\u001b[0;34m(\u001b[0m\u001b[0;36m10\u001b[0m\u001b[0;34m,\u001b[0m\u001b[0;36m1\u001b[0m\u001b[0;34m)\u001b[0m\u001b[0;34m,\u001b[0m \u001b[0;34m(\u001b[0m\u001b[0;36m1\u001b[0m\u001b[0;34m,\u001b[0m\u001b[0;36m1\u001b[0m\u001b[0;34m)\u001b[0m\u001b[0;34m)\u001b[0m\u001b[0;34m)\u001b[0m\u001b[0;34m\u001b[0m\u001b[0;34m\u001b[0m\u001b[0m\n\u001b[0m",
            "\u001b[0;31mTypeError\u001b[0m: can only concatenate tuple (not \"int\") to tuple"
          ]
        }
      ]
    },
    {
      "cell_type": "markdown",
      "source": [
        "### Exercise 4: Multiple Iterables with map\n",
        "Create two lists of equal length: one with names, another with ages.\n",
        "Define a named tuple Person with fields name and age.\n",
        "Use map to create a list of Person instances using the two lists.\n"
      ],
      "metadata": {
        "id": "1vILOaHF9LaN"
      }
    },
    {
      "cell_type": "code",
      "source": [
        "# complete code\n"
      ],
      "metadata": {
        "id": "JCklZT_K9N_P"
      },
      "execution_count": null,
      "outputs": []
    },
    {
      "cell_type": "markdown",
      "source": [
        "### Exercise 5: Advanced Application of map\n",
        "Create a list of named tuples representing products, each with fields name and price.\n",
        "Write a function that applies a discount to the price.\n",
        "Use map to apply this function to all products and generate a list of products with discounted prices.\n"
      ],
      "metadata": {
        "id": "vHu8EicB9T7P"
      }
    },
    {
      "cell_type": "code",
      "source": [
        "# complete code"
      ],
      "metadata": {
        "id": "oeeEkxjJ9XNR"
      },
      "execution_count": null,
      "outputs": []
    },
    {
      "cell_type": "markdown",
      "source": [
        "### Note for Participants:\n",
        "*Remember that the map function returns a map object, which is an iterator. Experiment with different functions and iterables to deepen your understanding of how map works in Python.*"
      ],
      "metadata": {
        "id": "Fc_EctpL9ZH7"
      }
    },
    {
      "cell_type": "markdown",
      "source": [
        "The filter function in Python is used to create a list of elements for which a function returns true.\n",
        "```\n",
        "filter(function, iterable)\n",
        "```\n",
        "\n",
        "#### Key Points\n",
        "*   The function is a predicate, which means it returns either True or False.\n",
        "*   The iterable can be any sequence like lists, tuples, or strings.\n",
        "*   The result is a new iterable with elements that return True for the predicate function.\n",
        "\n",
        "## Filter Exercises\n",
        "#### Exercise 1: Basic Usage of filter\n",
        "Create a list of numbers: numbers = [1, 2, 3, 4, 5, 6].\n",
        "Use the filter function to create a new list with only even numbers.\n",
        "Print the result.\n"
      ],
      "metadata": {
        "id": "GCr6iUJ_92kH"
      }
    },
    {
      "cell_type": "code",
      "source": [
        "# complete code"
      ],
      "metadata": {
        "id": "x-9DqPHv_eM1"
      },
      "execution_count": null,
      "outputs": []
    },
    {
      "cell_type": "markdown",
      "source": [
        "#### Exercise 2: Filtering with Named Tuples\n",
        "Define a named tuple Employee with fields name and department.\n",
        "Create a list of Employee instances.\n",
        "Use the filter function to create a list of employees who belong to a specific department, e.g., \"Sales\".\n"
      ],
      "metadata": {
        "id": "bt0ZjqPG_gcV"
      }
    },
    {
      "cell_type": "code",
      "source": [
        "# complete code"
      ],
      "metadata": {
        "id": "wNAl9pRE_kEE"
      },
      "execution_count": null,
      "outputs": []
    },
    {
      "cell_type": "markdown",
      "source": [
        "#### Exercise 3: Combining filter and Lambda Functions\n",
        "Create a list of named tuples representing products, each with fields name and price.\n",
        "Use filter with a lambda function to create a list of products whose price is greater than a certain value, say $50.\n"
      ],
      "metadata": {
        "id": "fGDw8lK-_kYb"
      }
    },
    {
      "cell_type": "code",
      "source": [
        "# complete code"
      ],
      "metadata": {
        "id": "MkJ9p4Gf_oJ0"
      },
      "execution_count": null,
      "outputs": []
    },
    {
      "cell_type": "markdown",
      "source": [
        "#### Exercise 4: Advanced Filtering\n",
        "Define a named tuple Student with fields name, grade, and major.\n",
        "Create a list of Student instances.\n",
        "Use filter to find students who have a grade above a certain threshold and are in a specific major.\n"
      ],
      "metadata": {
        "id": "zPf7JMRd_on8"
      }
    },
    {
      "cell_type": "code",
      "source": [
        "# complete code"
      ],
      "metadata": {
        "id": "OkHGKb3v_rCC"
      },
      "execution_count": null,
      "outputs": []
    },
    {
      "cell_type": "markdown",
      "source": [
        "#### Exercise 5: Practical Application\n",
        "Define a named tuple Book with fields title, author, and genre.\n",
        "Create a list of Book instances.\n",
        "Write a function to filter out books of a particular genre and by a specific author. Use filter to apply this function.\n"
      ],
      "metadata": {
        "id": "OOLMFY7w_rYT"
      }
    },
    {
      "cell_type": "code",
      "source": [
        "# complete code"
      ],
      "metadata": {
        "id": "ypB7Udnu_w39"
      },
      "execution_count": null,
      "outputs": []
    },
    {
      "cell_type": "markdown",
      "source": [
        "#### Note for Participants:\n",
        "* The filter function returns an iterator. To print or list the results, you may need to convert it to a list using list(). Experimenting with different functions and iterables will enhance your understanding of the filter function in Python. Remember, the predicate function must return a boolean value (True or False).*"
      ],
      "metadata": {
        "id": "1nnSNyDS_xl4"
      }
    },
    {
      "cell_type": "markdown",
      "source": [
        "## Reduce Function\n",
        "The reduce function is a powerful tool in Python, used to apply a function cumulatively to the items of an iterable, reducing the iterable to a single value.\n",
        "```\n",
        "from functools import reduce\n",
        "\n",
        "reduce(function, iterable[, initializer])\n",
        "```\n",
        "#### Key Points\n",
        "*   The function takes two arguments and applies a cumulative operation to the items of the iterable.\n",
        "The iterable can be any sequence such as lists, tuples, etc.\n",
        "*   An optional initializer can be provided as the initial value to start the accumulation.\n",
        "*   The reduce function is part of the functools module and needs to be imported.\n",
        "\n",
        "## Reduce Excercises\n",
        "#### Exercise 1: Basic Usage of reduce\n",
        "Create a tuple of numbers: numbers = (1, 2, 3, 4, 5).\n",
        "Use reduce to calculate the sum of these numbers.\n",
        "Print the result.\n"
      ],
      "metadata": {
        "id": "2JnbBPR3AiUD"
      }
    },
    {
      "cell_type": "code",
      "source": [
        "# complete code"
      ],
      "metadata": {
        "id": "jE26qxs4BBGK"
      },
      "execution_count": null,
      "outputs": []
    },
    {
      "cell_type": "markdown",
      "source": [
        "#### Exercise 2: Finding Maximum with reduce\n",
        "Create a tuple of integers.\n",
        "Use reduce with a lambda function to find the maximum value in the tuple.\n",
        "Print the maximum value."
      ],
      "metadata": {
        "id": "R64MoldmBBf7"
      }
    },
    {
      "cell_type": "code",
      "source": [
        "# complete code"
      ],
      "metadata": {
        "id": "4vK3mlhiBFrW"
      },
      "execution_count": null,
      "outputs": []
    },
    {
      "cell_type": "markdown",
      "source": [
        "#### Exercise 3: Concatenating Strings\n",
        "Create a tuple of strings: words = ('Hello', 'world', 'Python', 'is', 'awesome').\n",
        "Use reduce to concatenate these strings into a single sentence.\n",
        "Print the concatenated sentence.\n"
      ],
      "metadata": {
        "id": "_-tSoC0MBF9s"
      }
    },
    {
      "cell_type": "code",
      "source": [
        "# complete code"
      ],
      "metadata": {
        "id": "4_uChHZjBJZK"
      },
      "execution_count": null,
      "outputs": []
    },
    {
      "cell_type": "markdown",
      "source": [
        "#### Exercise 4: Multiplying Elements\n",
        "Create a tuple containing a series of numbers.\n",
        "Use reduce to multiply all the numbers in the tuple.\n",
        "Print the product of these numbers.\n"
      ],
      "metadata": {
        "id": "EoEw1FUNBJr6"
      }
    },
    {
      "cell_type": "code",
      "source": [
        "# complete code"
      ],
      "metadata": {
        "id": "VaVhutqFBNEy"
      },
      "execution_count": null,
      "outputs": []
    },
    {
      "cell_type": "markdown",
      "source": [
        "#### Exercise 5: Custom Reduce Operation\n",
        "Create a tuple of tuples, where each inner tuple contains a pair of numbers (e.g., ((1, 2), (3, 4), (5, 6))).\n",
        "Define a function that takes two tuples as arguments and returns a new tuple with the sum of corresponding elements.\n",
        "Use reduce to apply this function across the tuple of tuples.\n",
        "Print the resulting tuple.\n"
      ],
      "metadata": {
        "id": "qJGpgmPsBNXx"
      }
    },
    {
      "cell_type": "code",
      "source": [
        "# complete code"
      ],
      "metadata": {
        "id": "6HBk-AI-BP7v"
      },
      "execution_count": null,
      "outputs": []
    },
    {
      "cell_type": "markdown",
      "source": [
        "#### Note for Participants:\n",
        "*The reduce function is a bit different from map and filter as it reduces an iterable to a single cumulative value. It's essential to understand how the function you pass to reduce works with the elements of the iterable. Experiment with different tuples and functions to gain a deeper understanding of reduce.*"
      ],
      "metadata": {
        "id": "5zAAoSy3BQOx"
      }
    },
    {
      "cell_type": "markdown",
      "source": [
        "== End of Workbook =="
      ],
      "metadata": {
        "id": "OhRk3wwL9sLN"
      }
    }
  ]
}